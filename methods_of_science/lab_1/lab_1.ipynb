{
 "cells": [
  {
   "cell_type": "code",
   "execution_count": 11,
   "id": "68952a45",
   "metadata": {
    "scrolled": false
   },
   "outputs": [
    {
     "name": "stdout",
     "output_type": "stream",
     "text": [
      "    Год  ВВП Инфляция Безработица  Прогноз ВВП Прогноз Инфляции\n",
      "0  1970  3.2     5.7%        4.9%          3.3             5.5%\n",
      "1  1971  3.3     4.4%        5.9%          3.4             4.3%\n",
      "2  1972  5.3     3.2%        5.6%          5.2             3.3%\n",
      "3  1973  5.6     6.2%        4.9%          5.5             6.0%\n",
      "4  1974  0.5    11.0%        5.6%          0.7            10.8%\n",
      "Количество строк в данных: 50\n",
      "Пример данных для теста:\n",
      "     Год  ВВП  Инфляция  Безработица  Прогноз ВВП  Прогноз Инфляции\n",
      "25  1995  2.7       2.8          5.6          2.8               2.7\n",
      "26  1996  3.8       3.0          5.4          3.7               3.1\n",
      "27  1997  4.4       2.3          4.9          4.3               2.4\n",
      "28  1998  4.5       1.6          4.5          4.4               1.7\n",
      "29  1999  4.8       2.2          4.2          4.7               2.3\n",
      "Размер X_test: (25, 4)\n",
      "MSE: 32.615218468732145\n",
      "Результаты прогнозирования сохранены в файл 'prediction_results.xlsx'\n"
     ]
    }
   ],
   "source": [
    "import pandas as pd\n",
    "import numpy as np\n",
    "from sklearn.linear_model import LinearRegression\n",
    "from sklearn.metrics import mean_squared_error\n",
    "\n",
    "# Загрузка данных из CSV-файла\n",
    "data = pd.read_csv('infl.csv') \n",
    "df = data.head()\n",
    "print(df)\n",
    "# Очистка данных: удаление символов '%' и преобразование в числа\n",
    "for col in data.columns:\n",
    "    if data[col].dtype == object:  # Проверяем, является ли столбец строковым\n",
    "        data[col] = data[col].str.replace('%', '').astype(float)  # Удаляем '%' и преобразуем в float\n",
    "\n",
    "# Проверяем размер данных\n",
    "print(f'Количество строк в данных: {len(data)}')\n",
    "\n",
    "# Разделение данных на обучающую и экзаменационную выборки\n",
    "train_data = data[:25]  # Первые 25 строк для обучения\n",
    "test_data = data[25:]   # Остальные строки для тестирования\n",
    "\n",
    "# Проверяем, что данные не пустые\n",
    "print(\"Пример данных для теста:\")\n",
    "print(test_data.head())  # Выводим первые несколько строк тестовых данных\n",
    "\n",
    "# Определение целевой переменной (например, ВВП_квадрат)\n",
    "y_train = train_data['ВВП'] ** 2  # ВВП_квадрат для обучения\n",
    "y_test = test_data['ВВП'] ** 2    # ВВП_квадрат для тестирования\n",
    "\n",
    "# Построение линейной модели\n",
    "X_train = train_data[['ВВП', 'Инфляция', 'Безработица', 'Прогноз ВВП']]\n",
    "X_test = test_data[['ВВП', 'Инфляция', 'Безработица', 'Прогноз ВВП']]\n",
    "\n",
    "# Проверим размер X_test, чтобы убедиться, что это не пустая таблица\n",
    "print(f\"Размер X_test: {X_test.shape}\")\n",
    "\n",
    "model = LinearRegression()\n",
    "model.fit(X_train, y_train)\n",
    "\n",
    "# Прогнозирование на экзаменационной выборке\n",
    "if X_test.shape[0] > 0:  # Проверяем, что в тестовых данных есть хотя бы 1 строка\n",
    "    predictions = model.predict(X_test)\n",
    "\n",
    "    # Оценка модели (среднеквадратичная ошибка)\n",
    "    mse = mean_squared_error(y_test, predictions)\n",
    "    print(f'MSE: {mse}')\n",
    "\n",
    "    # Создание DataFrame с результатами прогнозирования\n",
    "    results = pd.DataFrame({\n",
    "        'Фактический ВВП': y_test,\n",
    "        'Прогноз ВВП': predictions\n",
    "    })\n",
    "\n",
    "    # Сохранение результатов в xlsx-файл\n",
    "    results.to_excel(\"prediction_results.xlsx\", index=False)\n",
    "\n",
    "    print(\"Результаты прогнозирования сохранены в файл 'prediction_results.xlsx'\")\n",
    "else:\n",
    "    print(\"Ошибка: В тестовых данных нет записей.\")\n"
   ]
  }
 ],
 "metadata": {
  "kernelspec": {
   "display_name": "Python 3 (ipykernel)",
   "language": "python",
   "name": "python3"
  },
  "language_info": {
   "codemirror_mode": {
    "name": "ipython",
    "version": 3
   },
   "file_extension": ".py",
   "mimetype": "text/x-python",
   "name": "python",
   "nbconvert_exporter": "python",
   "pygments_lexer": "ipython3",
   "version": "3.8.10"
  }
 },
 "nbformat": 4,
 "nbformat_minor": 5
}
