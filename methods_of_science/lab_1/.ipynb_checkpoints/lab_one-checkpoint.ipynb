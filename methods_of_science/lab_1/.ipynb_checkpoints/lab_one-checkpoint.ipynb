{
 "cells": [
  {
   "cell_type": "code",
   "execution_count": 25,
   "id": "ff99466f",
   "metadata": {},
   "outputs": [
    {
     "name": "stdout",
     "output_type": "stream",
     "text": [
      "Лучшая модель: полином 2-й степени\n",
      "Ошибка (MSE): 4.092913747949077\n",
      "Прогнозное значение: 4.362410526487801\n"
     ]
    }
   ],
   "source": [
    "import numpy as np\n",
    "import pandas as pd\n",
    "from sklearn.model_selection import train_test_split\n",
    "from sklearn.preprocessing import PolynomialFeatures\n",
    "from sklearn.linear_model import LinearRegression\n",
    "from sklearn.metrics import mean_squared_error\n",
    "\n",
    "# Загрузка данных\n",
    "df = pd.read_csv(\"price_moscow_flat.csv\", delimiter=\";\")   # Замените на ваш файл\n",
    "X = df.iloc[:, :-1].values  # Все столбцы, кроме последнего, как признаки\n",
    "y = df.iloc[:, -1].values   # Последний столбец — целевая переменная\n",
    "\n",
    "# Разделение на обучающую и экзаменационную выборки (50/50)\n",
    "X_train, X_test, y_train, y_test = train_test_split(X, y, test_size=0.5, random_state=42)\n",
    "# Построение множества моделей\n",
    "models = []\n",
    "errors = []\n",
    "degrees = [1, 2, 3]  # Используем полиномы 1-й, 2-й и 3-й степени\n",
    "\n",
    "for d in degrees:\n",
    "    poly = PolynomialFeatures(degree=d)\n",
    "    X_train_poly = poly.fit_transform(X_train)\n",
    "    X_test_poly = poly.transform(X_test)\n",
    "\n",
    "    model = LinearRegression()\n",
    "    model.fit(X_train_poly, y_train)\n",
    "\n",
    "    y_pred = model.predict(X_test_poly)\n",
    "    error = mean_squared_error(y_test, y_pred)  # Ошибка модели\n",
    "    models.append((model, poly))\n",
    "    errors.append(error)\n",
    "\n",
    "# Выбор оптимальной модели (по минимальному MSE)\n",
    "best_model_index = np.argmin(errors)\n",
    "best_model, best_poly = models[best_model_index]\n",
    "\n",
    "\n",
    "print(f\"Лучшая модель: полином {degrees[best_model_index]}-й степени\")\n",
    "print(f\"Ошибка (MSE): {errors[best_model_index]}\")\n",
    "\n",
    "# Прогнозирование на новых данных\n",
    "X_new = np.array([[5, 2, 3, 1, 4]])  # Замените на реальные данные\n",
    "X_new = np.pad(X_new, ((0, 0), (0, X_train.shape[1] - X_new.shape[1])), 'constant')\n",
    "\n",
    "X_new_poly = best_poly.transform(X_new)  # Применяем ту же трансформацию\n",
    "y_pred_new = best_model.predict(X_new_poly)\n",
    "\n",
    "print(f\"Прогнозное значение: {y_pred_new[0]}\")\n"
   ]
  },
  {
   "cell_type": "code",
   "execution_count": null,
   "id": "316af3cf",
   "metadata": {},
   "outputs": [],
   "source": []
  }
 ],
 "metadata": {
  "kernelspec": {
   "display_name": "Python 3 (ipykernel)",
   "language": "python",
   "name": "python3"
  },
  "language_info": {
   "codemirror_mode": {
    "name": "ipython",
    "version": 3
   },
   "file_extension": ".py",
   "mimetype": "text/x-python",
   "name": "python",
   "nbconvert_exporter": "python",
   "pygments_lexer": "ipython3",
   "version": "3.8.10"
  }
 },
 "nbformat": 4,
 "nbformat_minor": 5
}
