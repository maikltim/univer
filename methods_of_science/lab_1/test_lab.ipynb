{
 "cells": [
  {
   "cell_type": "code",
   "execution_count": 3,
   "id": "ad4eb5fc",
   "metadata": {},
   "outputs": [
    {
     "name": "stdout",
     "output_type": "stream",
     "text": [
      "Степень 1: Ошибка MSE = 10991601374064.207\n",
      "Степень 2: Ошибка MSE = 1.0813777616445794e+17\n",
      "Степень 3: Ошибка MSE = 5.342726726351541e+20\n",
      "Степень 4: Ошибка MSE = 1.3000108166565202e+25\n",
      "Степень 5: Ошибка MSE = 1.7716133593030254e+29\n",
      "Оптимальная модель имеет степень 1\n"
     ]
    },
    {
     "ename": "NameError",
     "evalue": "name 'значение1' is not defined",
     "output_type": "error",
     "traceback": [
      "\u001b[0;31m---------------------------------------------------------------------------\u001b[0m",
      "\u001b[0;31mNameError\u001b[0m                                 Traceback (most recent call last)",
      "\u001b[0;32m/tmp/ipykernel_41018/3340113984.py\u001b[0m in \u001b[0;36m<module>\u001b[0;34m\u001b[0m\n\u001b[1;32m     45\u001b[0m \u001b[0;34m\u001b[0m\u001b[0m\n\u001b[1;32m     46\u001b[0m \u001b[0;31m# Делаем прогноз на новые данные (например, 2025 год)\u001b[0m\u001b[0;34m\u001b[0m\u001b[0;34m\u001b[0m\u001b[0;34m\u001b[0m\u001b[0m\n\u001b[0;32m---> 47\u001b[0;31m \u001b[0mX_future\u001b[0m \u001b[0;34m=\u001b[0m \u001b[0mnp\u001b[0m\u001b[0;34m.\u001b[0m\u001b[0marray\u001b[0m\u001b[0;34m(\u001b[0m\u001b[0;34m[\u001b[0m\u001b[0;34m[\u001b[0m\u001b[0mзначение1\u001b[0m\u001b[0;34m,\u001b[0m \u001b[0mзначение2\u001b[0m\u001b[0;34m,\u001b[0m \u001b[0mзначение3\u001b[0m\u001b[0;34m,\u001b[0m \u001b[0mзначение4\u001b[0m\u001b[0;34m,\u001b[0m \u001b[0mзначение5\u001b[0m\u001b[0;34m]\u001b[0m\u001b[0;34m]\u001b[0m\u001b[0;34m)\u001b[0m  \u001b[0;31m# Введите ваши значения\u001b[0m\u001b[0;34m\u001b[0m\u001b[0;34m\u001b[0m\u001b[0m\n\u001b[0m\u001b[1;32m     48\u001b[0m \u001b[0mX_future_poly\u001b[0m \u001b[0;34m=\u001b[0m \u001b[0mPolynomialFeatures\u001b[0m\u001b[0;34m(\u001b[0m\u001b[0mdegree\u001b[0m\u001b[0;34m=\u001b[0m\u001b[0mbest_degree\u001b[0m\u001b[0;34m)\u001b[0m\u001b[0;34m.\u001b[0m\u001b[0mfit_transform\u001b[0m\u001b[0;34m(\u001b[0m\u001b[0mX_future\u001b[0m\u001b[0;34m)\u001b[0m\u001b[0;34m\u001b[0m\u001b[0;34m\u001b[0m\u001b[0m\n\u001b[1;32m     49\u001b[0m \u001b[0my_future\u001b[0m \u001b[0;34m=\u001b[0m \u001b[0mbest_model\u001b[0m\u001b[0;34m.\u001b[0m\u001b[0mpredict\u001b[0m\u001b[0;34m(\u001b[0m\u001b[0mX_future_poly\u001b[0m\u001b[0;34m)\u001b[0m\u001b[0;34m\u001b[0m\u001b[0;34m\u001b[0m\u001b[0m\n",
      "\u001b[0;31mNameError\u001b[0m: name 'значение1' is not defined"
     ]
    }
   ],
   "source": [
    "import numpy as np\n",
    "import pandas as pd\n",
    "from sklearn.model_selection import train_test_split\n",
    "from sklearn.preprocessing import PolynomialFeatures\n",
    "from sklearn.linear_model import LinearRegression\n",
    "from sklearn.metrics import mean_squared_error\n",
    "\n",
    "# Загружаем данные (пример)\n",
    "data = pd.read_csv(\"data.csv\")  # Замените на ваш файл\n",
    "\n",
    "data = data.drop(columns=[\"Region\"])\n",
    "\n",
    "\n",
    "# Выбираем входные и выходные переменные\n",
    "X = data.iloc[:, :-1].values  # Входные переменные (1-5 колонки)\n",
    "y = data.iloc[:, -1].values   # Выходная переменная (последняя колонка)\n",
    "\n",
    "# Разделяем на обучающую и экзаменационную выборки (50/50)\n",
    "X_train, X_test, y_train, y_test = train_test_split(X, y, test_size=0.5, random_state=42)\n",
    "\n",
    "models = {}\n",
    "errors = {}\n",
    "\n",
    "# Пробуем модели разной степени сложности (1-5)\n",
    "for degree in range(1, 6):\n",
    "    poly = PolynomialFeatures(degree=degree)\n",
    "    X_train_poly = poly.fit_transform(X_train)\n",
    "    X_test_poly = poly.transform(X_test)\n",
    "\n",
    "    model = LinearRegression()\n",
    "    model.fit(X_train_poly, y_train)\n",
    "    \n",
    "    # Оценка качества модели\n",
    "    y_pred = model.predict(X_test_poly)\n",
    "    error = mean_squared_error(y_test, y_pred)\n",
    "\n",
    "    models[degree] = model\n",
    "    errors[degree] = error\n",
    "    print(f\"Степень {degree}: Ошибка MSE = {error}\")\n",
    "\n",
    "    \n",
    "best_degree = min(errors, key=errors.get)  # Находим степень с минимальной ошибкой\n",
    "best_model = models[best_degree]\n",
    "print(f\"Оптимальная модель имеет степень {best_degree}\")\n",
    "\n",
    "# Делаем прогноз на тестовых данных\n",
    "X_test_poly = PolynomialFeatures(degree=best_degree).fit_transform(X_test)\n",
    "y_pred = best_model.predict(X_test_poly)\n",
    "\n",
    "# Сохраняем результаты в файл Excel\n",
    "output_df = pd.DataFrame({\"Actual\": y_test, \"Predicted\": y_pred})\n",
    "output_df.to_excel(\"prediction_results.xlsx\", index=False)\n",
    "\n",
    "print(\"Результаты прогнозирования сохранены в prediction_results.xlsx\")"
   ]
  }
 ],
 "metadata": {
  "kernelspec": {
   "display_name": "Python 3 (ipykernel)",
   "language": "python",
   "name": "python3"
  },
  "language_info": {
   "codemirror_mode": {
    "name": "ipython",
    "version": 3
   },
   "file_extension": ".py",
   "mimetype": "text/x-python",
   "name": "python",
   "nbconvert_exporter": "python",
   "pygments_lexer": "ipython3",
   "version": "3.8.10"
  }
 },
 "nbformat": 4,
 "nbformat_minor": 5
}
